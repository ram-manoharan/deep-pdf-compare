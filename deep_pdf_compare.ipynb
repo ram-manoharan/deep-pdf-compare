#Fetches PDFs from URLs
#Extracts and summarizes key data concisely
#Compares content and highlights similarities and differences
#Calculates % text overlap between PDFs
#Calclates % semantic overlap between PDFs


!pip install openai
!pip install pymupdf
!pip install tiktoken
import fitz  # PyMuPDF for PDF text extraction
import openai
import requests
import tiktoken
import numpy as np

from openai import OpenAI
from google.colab import userdata
from difflib import SequenceMatcher

#  OpenAI API Key
open_ai_key = userdata.get('open-ai')

client = OpenAI(api_key=open_ai_key)

def download_pdf_from_url(url, filename):
    """Downloads a PDF file from a given URL."""
    response = requests.get(url)
    with open(filename, "wb") as f:
        f.write(response.content)
    return filename

def extract_text_from_pdf(pdf_path):
    """Extracts text from a given PDF file."""
    doc = fitz.open(pdf_path)
    text = "\n".join([page.get_text("text") for page in doc])
    return text

def summarize_text(text):
    """Summarizes the given text concisely using OpenAI GPT."""
    prompt = f"Summarize the following text concisely while capturing key details:\n{text[:3500]}"
    response = client.chat.completions.create(
        model="gpt-3.5-turbo",
        messages=[{"role": "system", "content": "You are a precise and concise summarizer."},
                  {"role": "user", "content": prompt}]
    )
    return response.choices[0].message.content

def compare_texts(text1, text2):
    """Compares two texts and summarizes key differences and similarities."""
    prompt = f"Compare the following two texts concisely, listing key similarities and differences:\n\nText 1:\n{text1[:3500]}\n\nText 2:\n{text2[:3500]}"
    response = client.chat.completions.create(
        model="gpt-3.5-turbo",
        messages=[{"role": "system", "content": "You are an expert at comparing documents."},
                  {"role": "user", "content": prompt}]
    )
    return response.choices[0].message.content

def trim_text(text, max_tokens=8000):
    """Trims text to fit within the token limit for OpenAI models."""
    enc = tiktoken.encoding_for_model("gpt-4-turbo")
    tokens = enc.encode(text)
    return enc.decode(tokens[:max_tokens])  # Trim text to max tokens

# Function to generate text embeddings
def get_embedding(text):
    response = client.embeddings.create(
        input=text,
        model="text-embedding-ada-002"
    )
    return np.array(response.data[0].embedding)

# Function to calculate cosine similarity
def cosine_similarity(vec1, vec2):
    return np.dot(vec1, vec2) / (np.linalg.norm(vec1) * np.linalg.norm(vec2))

def calculate_text_overlap(text1, text2):
    """Calculates the percentage of content overlap between two texts."""
    similarity = SequenceMatcher(None, text1, text2).ratio()
    return round(similarity * 100, 2)  # Convert to percentage

def main(pdf1_url, pdf2_url):
    """Main function to process PDFs from URLs, summarize, compare, and find overlap."""

    # Download PDFs
    pdf1_path = download_pdf_from_url(pdf1_url, "pdf1.pdf")
    pdf2_path = download_pdf_from_url(pdf2_url, "pdf2.pdf")

    # Extract text
    text1 = extract_text_from_pdf(pdf1_path)
    text2 = extract_text_from_pdf(pdf2_path)

    text1 = trim_text(text1, 8000)
    text2 = trim_text(text2, 8000)

    # Summarize key points concisely
    summary1 = summarize_text(text1)
    summary2 = summarize_text(text2)

    # Compare both texts
    comparison = compare_texts(text1, text2)

    # Calculate content overlap %
    overlap_percentage = calculate_text_overlap(text1, text2)

    # Generate embeddings
    vec1 = get_embedding(text1)
    vec2 = get_embedding(text2)

    # Calculate similarity
    similarity = cosine_similarity(vec1, vec2)

    similarity_percentage = similarity * 100



    # Print Results
    print("\n--- Summary of PDF 1 ---\n", summary1)
    print("\n--- Summary of PDF 2 ---\n", summary2)
    print("\n--- Comparison of PDFs ---\n", comparison)
    print(f"\n--- Text Overlap: {overlap_percentage}% ---")
    print(f"\n--- Semantic Similarity: {similarity_percentage:.2f}% ---")

# Example usage - Replace with actual URLs
pdf1_url = "https://www.rfc-editor.org/rfc/pdfrfc/rfc2328.txt.pdf"
pdf2_url = "https://www.rfc-editor.org/rfc/pdfrfc/rfc4271.txt.pdf"
main(pdf1_url, pdf2_url)
